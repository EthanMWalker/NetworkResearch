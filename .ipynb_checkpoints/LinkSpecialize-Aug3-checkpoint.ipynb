{
 "cells": [
  {
   "cell_type": "code",
   "execution_count": 4,
   "metadata": {},
   "outputs": [],
   "source": [
    "import numpy as np\n",
    "import networkx as nx\n",
    "from specializeGraph import *\n"
   ]
  },
  {
   "cell_type": "code",
   "execution_count": 65,
   "metadata": {},
   "outputs": [],
   "source": [
    "def delSink(A,bSize,comp):\n",
    "    \"\"\" REMOVE SINK COMPONENTS OF GRAPH\n",
    "        Parameters\n",
    "        ----------\n",
    "        A (nxn numpy array): Adjacency matrix of a simple directed graph\n",
    "                             with base nodes at indexes 0,1,...,bSize-1\n",
    "        bSize (int): number of base nodes\n",
    "        comp (kx1 numpy array): strongly connected components\n",
    "        Returns\n",
    "        -------\n",
    "        sA (NxN numpy array): the new adjacency matrix\n",
    "    \"\"\"\n",
    "    n = A.shape[0]\n",
    "    numComp = len(comp)\n",
    "    removed = set()\n",
    "    compDict = comp.copy()\n",
    "    \n",
    "    #Compute the out degree of each component\n",
    "    compDeg = np.ones(numComp)\n",
    "    for key in compDict.keys():\n",
    "        if key >= bSize:\n",
    "            c = compDict[key]\n",
    "            compDeg[key] = A[:,c].sum() - A[c][:,c].sum()\n",
    "    \n",
    "    #Find each sink\n",
    "    sinks = np.where(compDeg==0)[0]\n",
    "    \n",
    "    #While there are sink components in the graph\n",
    "    while sinks.size > 0 :\n",
    "        N = A.shape[0]\n",
    "\n",
    "        #Look at the first sink in the list\n",
    "        sink = sinks[0]\n",
    "\n",
    "        #Label each node in the sink\n",
    "        mask = np.zeros(N,dtype=bool)\n",
    "        mask[comp[sink]] = True\n",
    "\n",
    "        #Remove all edges pointing to the sink\n",
    "        A[mask] = 0\n",
    "\n",
    "        #Add the component to the remove list\n",
    "        removed.add(sink)\n",
    "        compDict.pop(sink)\n",
    "        compDeg[sink] = 1\n",
    "\n",
    "        #Recompute the in-degree of each component\n",
    "        for key in compDict.keys():\n",
    "            if key >= bSize:\n",
    "                c = compDict[key]\n",
    "                compDeg[key] = A[:,c].sum() - A[c][:,c].sum()\n",
    "\n",
    "        #Find any new sinks        \n",
    "        sinks = np.where(compDeg==0)[0]\n",
    "\n",
    "    #Remove sinks and relabel components\n",
    "    relabel = dict(zip(np.arange(n),np.arange(n)))\n",
    "    mask = np.ones(n,bool)\n",
    "\n",
    "    for key in comp.keys():\n",
    "        if key in removed:\n",
    "            mask[comp[key]] = False\n",
    "            for node in comp[key]:\n",
    "                for k in range(node+1,n):\n",
    "                    relabel[k] -= 1\n",
    "                    \n",
    "    A = A[mask][:,mask]\n",
    "\n",
    "\n",
    "    #Relabel the components\n",
    "    for key in comp.keys():\n",
    "        nodes = comp[key]\n",
    "        for i in range(len(nodes)):\n",
    "            nodes[i] = relabel[nodes[i]]\n",
    "            comp[key] = nodes\n",
    "        if key in removed:\n",
    "            comp.pop(key)\n",
    "            \n",
    "    return A,comp"
   ]
  },
  {
   "cell_type": "code",
   "execution_count": 69,
   "metadata": {},
   "outputs": [
    {
     "data": {
      "image/png": "[encoded data removed]",
      "text/plain": [
       "<matplotlib.figure.Figure at 0x151ca276d0>"
      ]
     },
     "metadata": {},
     "output_type": "display_data"
    },
    {
     "data": {
      "image/png": "[encoded data removed]",
      "text/plain": [
       "<matplotlib.figure.Figure at 0x151c3a9c50>"
      ]
     },
     "metadata": {},
     "output_type": "display_data"
    }
   ],
   "source": [
    "A = np.array([   [ 0,  0., 0., 0., 1.],\n",
    "                 [ 0., 0., 0., 1., 0.],\n",
    "                 [ 0., 1., 0., 1., 0.],\n",
    "                 [ 1., 1., 1., 0., 0],\n",
    "                 [ 0., 0., 0., 0., 0.]])\n",
    "A = baseFirst(A,[1])\n",
    "drawGraph(A)\n",
    "bSize=1\n",
    "smA,comp = compressGraph(A,1)\n",
    "drawGraph(delSink(A.T,1,comp)[0].T)"
   ]
  },
  {
   "cell_type": "code",
   "execution_count": 82,
   "metadata": {},
   "outputs": [
    {
     "name": "stdout",
     "output_type": "stream",
     "text": [
      "[1. 3. 1. 0.]\n",
      "[3]\n"
     ]
    }
   ],
   "source": [
    "A = np.array([   [ 0,  0., 0., 0., 1.],\n",
    "                 [ 0., 0., 0., 1., 0.],\n",
    "                 [ 0., 1., 0., 1., 0.],\n",
    "                 [ 1., 1., 1., 0., 0.],\n",
    "                 [ 0., 0., 0., 0., 0.]])\n",
    "A = baseFirst(A,[1])\n",
    "bSize=1\n",
    "smA,comp = compressGraph(A,1)\n",
    "A = A.T\n",
    "\n",
    "n = A.shape[0]\n",
    "numComp = len(comp)\n",
    "removed = set()\n",
    "compDict = comp.copy()\n",
    "\n",
    "#Compute the out degree of each component\n",
    "compDeg = np.ones(numComp)\n",
    "for key in compDict.keys():\n",
    "    if key >= bSize:\n",
    "        c = compDict[key]\n",
    "        compDeg[key] = A[:,c].sum() - A[c][:,c].sum()\n",
    "\n",
    "#Find each sink\n",
    "sinks = np.where(compDeg==0)[0]\n",
    "print(compDeg)\n",
    "print(sinks)"
   ]
  },
  {
   "cell_type": "code",
   "execution_count": 84,
   "metadata": {},
   "outputs": [
    {
     "name": "stdout",
     "output_type": "stream",
     "text": [
      "[1. 2. 1. 1.]\n",
      "False\n",
      "[[0. 0. 1. 1. 0.]\n",
      " [0. 0. 0. 0. 0.]\n",
      " [0. 0. 0. 1. 0.]\n",
      " [1. 0. 1. 0. 0.]\n",
      " [0. 0. 0. 0. 0.]]\n"
     ]
    }
   ],
   "source": [
    "N = A.shape[0]\n",
    "\n",
    "#Look at the first sink in the list\n",
    "sink = sinks[0]\n",
    "\n",
    "#Label each node in the sink\n",
    "mask = np.zeros(N,dtype=bool)\n",
    "mask[comp[sink]] = True\n",
    "\n",
    "#Remove all edges pointing to the sink\n",
    "A[mask] = 0\n",
    "\n",
    "#Add the component to the remove list\n",
    "removed.add(sink)\n",
    "compDict.pop(sink)\n",
    "compDeg[sink] = 1\n",
    "\n",
    "#Recompute the in-degree of each component\n",
    "for key in compDict.keys():\n",
    "    if key >= bSize:\n",
    "        c = compDict[key]\n",
    "        compDeg[key] = A[:,c].sum() - A[c][:,c].sum()\n",
    "\n",
    "#Find any new sinks        \n",
    "sinks = np.where(compDeg==0)[0]\n",
    "print(compDeg)\n",
    "print(sinks.size > 0)\n",
    "print(A)"
   ]
  },
  {
   "cell_type": "code",
   "execution_count": 85,
   "metadata": {},
   "outputs": [
    {
     "name": "stdout",
     "output_type": "stream",
     "text": [
      "set([2, 3])\n",
      "[[0. 1. 1.]\n",
      " [0. 0. 1.]\n",
      " [1. 1. 0.]]\n",
      "{0: array([0]), 1: array([1, 2])}\n"
     ]
    }
   ],
   "source": [
    "print(removed)\n",
    "relabel = dict(zip(np.arange(n),np.arange(n)))\n",
    "mask = np.ones(n,bool)\n",
    "\n",
    "for key in comp.keys():\n",
    "    if key in removed:\n",
    "        mask[comp[key]] = False\n",
    "        for node in comp[key]:\n",
    "            for k in range(node+1,n):\n",
    "                relabel[k] -= 1\n",
    "\n",
    "A = A[mask][:,mask]\n",
    "        \n",
    "\n",
    "#Relabel the components\n",
    "for key in comp.keys():\n",
    "    nodes = comp[key]\n",
    "    for i in range(len(nodes)):\n",
    "        nodes[i] = relabel[nodes[i]]\n",
    "        comp[key] = nodes\n",
    "    if key in removed:\n",
    "        comp.pop(key)\n",
    "print(A)\n",
    "print(comp)"
   ]
  },
  {
   "cell_type": "code",
   "execution_count": 3,
   "metadata": {},
   "outputs": [
    {
     "data": {
      "image/png": "[encoded data removed]",
      "text/plain": [
       "<matplotlib.figure.Figure at 0x151263f850>"
      ]
     },
     "metadata": {},
     "output_type": "display_data"
    },
    {
     "data": {
      "image/png": "[encoded data removed]",
      "text/plain": [
       "<matplotlib.figure.Figure at 0x151263f810>"
      ]
     },
     "metadata": {},
     "output_type": "display_data"
    }
   ],
   "source": [
    "def delSink(A,bSize,comp):\n",
    "    \"\"\" REMOVE SINK COMPONENTS OF GRAPH\n",
    "        Parameters\n",
    "        ----------\n",
    "        A (nxn numpy array): Adjacency matrix of a simple directed graph\n",
    "                             with base nodes at indexes 0,1,...,bSize-1\n",
    "        bSize (int): number of base nodes\n",
    "        comp (kx1 numpy array): strongly connected components\n",
    "        Returns\n",
    "        -------\n",
    "        sA (NxN numpy array): the new adjacency matrix\n",
    "    \"\"\"\n",
    "    \n",
    "    numComp = len(comp)\n",
    "    removed = set()\n",
    "    compDict = comp.copy()\n",
    "    \n",
    "    #Compute the out degree of each component\n",
    "    compDeg = np.ones(numComp)\n",
    "    for key in compDict.keys():\n",
    "        if key >= bSize:\n",
    "            c = compDict[key]\n",
    "            compDeg[key] = A[:,c].sum() - A[c][:,c].sum()\n",
    "    \n",
    "    #Find each sink\n",
    "    sinks = np.where(compDeg==0)[0]\n",
    "    \n",
    "    #While there are sink components in the graph\n",
    "    while sinks.size > 0 :\n",
    "        n = A.shape[0]\n",
    "        \n",
    "        #Look at the first sink in the list\n",
    "        sink = sinks[0]\n",
    "        \n",
    "        #Label each node in the sink\n",
    "        mask = np.zeros(n,dtype=bool)\n",
    "        mask[comp[sink]] = True\n",
    "        \n",
    "        #Remove all edges pointing to the sink\n",
    "        A[mask] = 0\n",
    "        \n",
    "        #Add the component to the remove list\n",
    "        removed.add(sink)\n",
    "        compDict.pop(sink)\n",
    "        compDeg[sink] = 1\n",
    "        \n",
    "        #Recompute the out-degree of each component\n",
    "        for key in compDict.keys():\n",
    "            if key >= bSize:\n",
    "                c = compDict[key]\n",
    "                compDeg[key] = A[:,c].sum() - A[c][:,c].sum()\n",
    "                \n",
    "        #Find any new sinks        \n",
    "        sinks = np.where(compDeg==0)[0]\n",
    "\n",
    "    #Remove sinks and relabel components\n",
    "    for key in comp.keys():\n",
    "        if key in removed:\n",
    "            #Remove each sink\n",
    "            mask = np.ones(A.shape[0],bool)\n",
    "            mask[comp[key]] = False\n",
    "            A = A[mask][:,mask]\n",
    "\n",
    "    return A\n"
   ]
  },
  {
   "cell_type": "code",
   "execution_count": 4,
   "metadata": {},
   "outputs": [
    {
     "data": {
      "image/png": "[encoded data removed]",
      "text/plain": [
       "<matplotlib.figure.Figure at 0x151263f650>"
      ]
     },
     "metadata": {},
     "output_type": "display_data"
    },
    {
     "data": {
      "image/png": "[encoded data removed]",
      "text/plain": [
       "<matplotlib.figure.Figure at 0x1512a72b90>"
      ]
     },
     "metadata": {},
     "output_type": "display_data"
    }
   ],
   "source": [
    "A = np.array([[0,0,0,0,0,0],\n",
    "              [0,0,0,0,1,1],\n",
    "              [1,0,0,1,0,0],\n",
    "              [1,0,1,0,0,0],\n",
    "              [0,0,1,1,0,1],\n",
    "              [0,0,1,1,1,0],\n",
    "])\n",
    "\n",
    "sA = specializeLink(A,2,(4,2),2)\n",
    "drawGraph(A)\n",
    "drawGraph(sA)"
   ]
  },
  {
   "cell_type": "code",
   "execution_count": 5,
   "metadata": {},
   "outputs": [
    {
     "ename": "TypeError",
     "evalue": "long() argument must be a string or a number, not 'set'",
     "output_type": "error",
     "traceback": [
      "\u001b[0;31m---------------------------------------------------------------------------\u001b[0m",
      "\u001b[0;31mTypeError\u001b[0m                                 Traceback (most recent call last)",
      "\u001b[0;32m<ipython-input-5-90672b63f7ee>\u001b[0m in \u001b[0;36m<module>\u001b[0;34m()\u001b[0m\n\u001b[1;32m      7\u001b[0m               \u001b[0;34m[\u001b[0m\u001b[0;36m0\u001b[0m\u001b[0;34m,\u001b[0m\u001b[0;36m0\u001b[0m\u001b[0;34m,\u001b[0m\u001b[0;36m0\u001b[0m\u001b[0;34m,\u001b[0m\u001b[0;36m0\u001b[0m\u001b[0;34m,\u001b[0m\u001b[0;36m0\u001b[0m\u001b[0;34m,\u001b[0m\u001b[0;36m0\u001b[0m\u001b[0;34m,\u001b[0m\u001b[0;36m0\u001b[0m\u001b[0;34m]\u001b[0m\u001b[0;34m\u001b[0m\u001b[0m\n\u001b[1;32m      8\u001b[0m              ])\n\u001b[0;32m----> 9\u001b[0;31m \u001b[0msA\u001b[0m \u001b[0;34m=\u001b[0m \u001b[0moutSpecialize\u001b[0m\u001b[0;34m(\u001b[0m\u001b[0minSpecialize\u001b[0m\u001b[0;34m(\u001b[0m\u001b[0mA\u001b[0m\u001b[0;34m,\u001b[0m\u001b[0;34m[\u001b[0m\u001b[0;36m1\u001b[0m\u001b[0;34m,\u001b[0m\u001b[0;36m3\u001b[0m\u001b[0;34m,\u001b[0m\u001b[0;36m4\u001b[0m\u001b[0;34m]\u001b[0m\u001b[0;34m)\u001b[0m\u001b[0;34m,\u001b[0m\u001b[0;34m[\u001b[0m\u001b[0;36m1\u001b[0m\u001b[0;34m,\u001b[0m\u001b[0;36m3\u001b[0m\u001b[0;34m,\u001b[0m\u001b[0;36m4\u001b[0m\u001b[0;34m]\u001b[0m\u001b[0;34m)\u001b[0m\u001b[0;34m\u001b[0m\u001b[0m\n\u001b[0m\u001b[1;32m     10\u001b[0m \u001b[0mdrawGraph\u001b[0m\u001b[0;34m(\u001b[0m\u001b[0mA\u001b[0m\u001b[0;34m)\u001b[0m\u001b[0;34m\u001b[0m\u001b[0m\n\u001b[1;32m     11\u001b[0m \u001b[0mdrawGraph\u001b[0m\u001b[0;34m(\u001b[0m\u001b[0msA\u001b[0m\u001b[0;34m)\u001b[0m\u001b[0;34m\u001b[0m\u001b[0m\n",
      "\u001b[0;32m/Users/djpassey/Code/DJ/GitHub/NetworkResearch/specializeGraph.py\u001b[0m in \u001b[0;36moutSpecialize\u001b[0;34m(A, Base)\u001b[0m\n\u001b[1;32m    346\u001b[0m         \u001b[0;32mif\u001b[0m \u001b[0mA\u001b[0m\u001b[0;34m[\u001b[0m\u001b[0mcomp\u001b[0m\u001b[0;34m,\u001b[0m\u001b[0;34m:\u001b[0m\u001b[0;34m]\u001b[0m\u001b[0;34m.\u001b[0m\u001b[0msum\u001b[0m\u001b[0;34m(\u001b[0m\u001b[0;34m)\u001b[0m \u001b[0;34m-\u001b[0m \u001b[0mA\u001b[0m\u001b[0;34m[\u001b[0m\u001b[0mcomp\u001b[0m\u001b[0;34m]\u001b[0m\u001b[0;34m[\u001b[0m\u001b[0;34m:\u001b[0m\u001b[0;34m,\u001b[0m\u001b[0mcomp\u001b[0m\u001b[0;34m]\u001b[0m\u001b[0;34m.\u001b[0m\u001b[0msum\u001b[0m\u001b[0;34m(\u001b[0m\u001b[0;34m)\u001b[0m \u001b[0;34m==\u001b[0m \u001b[0;36m0\u001b[0m\u001b[0;34m:\u001b[0m\u001b[0;34m\u001b[0m\u001b[0m\n\u001b[1;32m    347\u001b[0m             \u001b[0;32mfor\u001b[0m \u001b[0mnode\u001b[0m \u001b[0;32min\u001b[0m \u001b[0mcomp\u001b[0m\u001b[0;34m:\u001b[0m\u001b[0;34m\u001b[0m\u001b[0m\n\u001b[0;32m--> 348\u001b[0;31m                 \u001b[0mnp\u001b[0m\u001b[0;34m.\u001b[0m\u001b[0mdelete\u001b[0m\u001b[0;34m(\u001b[0m\u001b[0mA\u001b[0m\u001b[0;34m,\u001b[0m\u001b[0mc\u001b[0m\u001b[0;34m,\u001b[0m\u001b[0;36m0\u001b[0m\u001b[0;34m)\u001b[0m\u001b[0;34m\u001b[0m\u001b[0m\n\u001b[0m\u001b[1;32m    349\u001b[0m                 \u001b[0mnp\u001b[0m\u001b[0;34m.\u001b[0m\u001b[0mdelete\u001b[0m\u001b[0;34m(\u001b[0m\u001b[0mA\u001b[0m\u001b[0;34m,\u001b[0m\u001b[0mc\u001b[0m\u001b[0;34m,\u001b[0m\u001b[0;36m1\u001b[0m\u001b[0;34m)\u001b[0m\u001b[0;34m\u001b[0m\u001b[0m\n\u001b[1;32m    350\u001b[0m \u001b[0;34m\u001b[0m\u001b[0m\n",
      "\u001b[0;32m/Library/Python/anaconda/lib/python2.7/site-packages/numpy/lib/function_base.pyc\u001b[0m in \u001b[0;36mdelete\u001b[0;34m(arr, obj, axis)\u001b[0m\n\u001b[1;32m   4877\u001b[0m                 \u001b[0;34m\"using a non-integer array as obj in delete will result in an \"\u001b[0m\u001b[0;34m\u001b[0m\u001b[0m\n\u001b[1;32m   4878\u001b[0m                 \"error in the future\", DeprecationWarning, stacklevel=2)\n\u001b[0;32m-> 4879\u001b[0;31m             \u001b[0mobj\u001b[0m \u001b[0;34m=\u001b[0m \u001b[0mobj\u001b[0m\u001b[0;34m.\u001b[0m\u001b[0mastype\u001b[0m\u001b[0;34m(\u001b[0m\u001b[0mintp\u001b[0m\u001b[0;34m)\u001b[0m\u001b[0;34m\u001b[0m\u001b[0m\n\u001b[0m\u001b[1;32m   4880\u001b[0m         \u001b[0mkeep\u001b[0m \u001b[0;34m=\u001b[0m \u001b[0mones\u001b[0m\u001b[0;34m(\u001b[0m\u001b[0mN\u001b[0m\u001b[0;34m,\u001b[0m \u001b[0mdtype\u001b[0m\u001b[0;34m=\u001b[0m\u001b[0mbool\u001b[0m\u001b[0;34m)\u001b[0m\u001b[0;34m\u001b[0m\u001b[0m\n\u001b[1;32m   4881\u001b[0m \u001b[0;34m\u001b[0m\u001b[0m\n",
      "\u001b[0;31mTypeError\u001b[0m: long() argument must be a string or a number, not 'set'"
     ]
    }
   ],
   "source": [
    "A = np.array([[0.,0,0,0,0,0,0],\n",
    "              [1,0,0,0,0,1,0],\n",
    "              [0,1,0,0,0,0,1],\n",
    "              [0,0,1,0,0,0,1],\n",
    "              [0,0,1,0,0,0,0],\n",
    "              [1,0,1,0,1,0,0],\n",
    "              [0,0,0,0,0,0,0]\n",
    "             ])\n",
    "sA = outSpecialize(inSpecialize(A,[1,3,4]),[1,3,4])\n",
    "drawGraph(A)\n",
    "drawGraph(sA)\n",
    "print(spectralRad(A))\n",
    "print(spectralRad(sA))"
   ]
  },
  {
   "cell_type": "markdown",
   "metadata": {},
   "source": [
    "### Time the two algorithms"
   ]
  },
  {
   "cell_type": "code",
   "execution_count": null,
   "metadata": {},
   "outputs": [],
   "source": [
    "import time\n",
    "from matplotlib import pyplot as plt"
   ]
  },
  {
   "cell_type": "code",
   "execution_count": null,
   "metadata": {},
   "outputs": [],
   "source": [
    "x = np.arange(3,7)\n",
    "yLink = []\n",
    "yGraph = []\n",
    "for n in range(3,7):\n",
    "    linkSp = 0\n",
    "    graphSp = 0\n",
    "    for i in range(3):\n",
    "        A = (np.random.rand(n,n)>np.random.rand())*1.\n",
    "        for j in range(n): A[j,j] = 0\n",
    "        nodes = list(range(n))\n",
    "        base = list(np.random.choice(nodes,replace=False,size=np.random.randint(1,high=n)))\n",
    "        bSize = len(base)\n",
    "        \n",
    "        t0 = time.time()\n",
    "        sA = inSpecialize(outSpecialize(A,base),list(range(bSize)))\n",
    "        t1 = time.time()\n",
    "        linkSp+= t1-t0\n",
    "        \n",
    "        t0 = time.time()\n",
    "        sA = specializeGraph(A,base)\n",
    "        t1 = time.time()\n",
    "        graphSp+= t1-t0\n",
    "    \n",
    "    yLink.append(linkSp/3.)\n",
    "    yGraph.append(graphSp/3.)\n",
    "\n",
    "plt.plot(x,yGraph)\n",
    "plt.plot(x,yLink)\n",
    "plt.show()"
   ]
  },
  {
   "cell_type": "markdown",
   "metadata": {},
   "source": [
    "### A look at how out-degree specialization affects the laplacian\n",
    "\n",
    "Both the normalized laplacian and laplacian are not affected by out degree specialization except for in a few cases. We will examine these more closely"
   ]
  },
  {
   "cell_type": "code",
   "execution_count": null,
   "metadata": {},
   "outputs": [],
   "source": [
    "n = 5\n",
    "for i in range(100):\n",
    "    A = (np.random.rand(n,n)>np.random.rand())*1.\n",
    "    for j in range(n): A[j,j] = 0\n",
    "    nodes = list(range(n))\n",
    "    base = list(np.random.choice(nodes,replace=False,size=np.random.randint(1,high=n)))\n",
    "    L = laplacian(A,randomWalk=0)\n",
    "    rL = round(spectralRad(L),3)\n",
    "\n",
    "    \n",
    "    sA = outSpecialize(A,base)\n",
    "    sL = laplacian(sA,randomWalk=0)\n",
    "    SrL = round(spectralRad(sL),3)\n",
    "    if SrL != rL:\n",
    "        drawGraph(A)\n",
    "        print(base)\n",
    "        drawGraph(sA)\n",
    "        print(\"L: \")\n",
    "        print(L)\n",
    "        print(\"sL: \")\n",
    "        print(sL)\n",
    "        print(\"SPECTRUM: \\nrL: {}\".format(rL) )\n",
    "        print(\"SPECIAL SPECTRUM: \\nSrL: {}\".format(SrL) )\n",
    "        print(\"\\n\")"
   ]
  },
  {
   "cell_type": "code",
   "execution_count": null,
   "metadata": {},
   "outputs": [],
   "source": [
    "n = 4\n",
    "for i in range(10):\n",
    "    A = (np.random.rand(n,n)>np.random.rand())*1.\n",
    "    for j in range(n): A[j,j] = 0\n",
    "    nodes = list(range(n))\n",
    "    base = list(np.random.choice(nodes,replace=False,size=np.random.randint(1,high=n)))\n",
    "    rL = round(spectralRad(laplacian(A,randomWalk=0)),3)\n",
    "    sA = outSpecialize(A,base)\n",
    "    SrL = round(spectralRad(laplacian(sA,randomWalk=0)),3)\n",
    "    if rL < SrL:\n",
    "        print(base)\n",
    "        print(A)\n",
    "        drawGraph(sA)"
   ]
  },
  {
   "cell_type": "code",
   "execution_count": 18,
   "metadata": {},
   "outputs": [
    {
     "data": {
      "text/plain": [
       "[]"
      ]
     },
     "execution_count": 18,
     "metadata": {},
     "output_type": "execute_result"
    }
   ],
   "source": [
    "[] + list(range(5,5))"
   ]
  },
  {
   "cell_type": "code",
   "execution_count": null,
   "metadata": {},
   "outputs": [],
   "source": []
  }
 ],
 "metadata": {
  "kernelspec": {
   "display_name": "Python [anaconda]",
   "language": "python",
   "name": "Python [anaconda]"
  },
  "language_info": {
   "codemirror_mode": {
    "name": "ipython",
    "version": 2
   },
   "file_extension": ".py",
   "mimetype": "text/x-python",
   "name": "python",
   "nbconvert_exporter": "python",
   "pygments_lexer": "ipython2",
   "version": "2.7.14"
  }
 },
 "nbformat": 4,
 "nbformat_minor": 2
}
