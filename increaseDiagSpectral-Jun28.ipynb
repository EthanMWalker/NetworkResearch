{
 "cells": [
  {
   "cell_type": "code",
   "execution_count": 261,
   "metadata": {},
   "outputs": [],
   "source": [
    "import numpy as np\n",
    "from scipy import linalg as la\n",
    "from matplotlib import pyplot as plt\n",
    "import networkx as nx"
   ]
  },
  {
   "cell_type": "markdown",
   "metadata": {},
   "source": [
    "### Determine if increasing the diagonal elements of a directed lapacian can decrease it's spectral radius"
   ]
  },
  {
   "cell_type": "code",
   "execution_count": 304,
   "metadata": {},
   "outputs": [],
   "source": [
    "def makeMtrx(n=10,p=.6):\n",
    "    \"\"\"Create a psudo-laplacian matrix for a directed random graph\n",
    "    \n",
    "    Parameters\n",
    "    ----------\n",
    "    n (int): Number of nodes\n",
    "    p (float): 0 < p < 1 probability of a link between two nodes\n",
    "\n",
    "    Returns\n",
    "    -------\n",
    "    L (nxn array): directed laplacian for the random graph\n",
    "    \"\"\"\n",
    "    A = (np.random.rand(n,n) < p).astype(float)    \n",
    "    for i in range(n):\n",
    "        A[i,i] = 0\n",
    "    L = np.diag(A.sum(axis=1)) - A\n",
    "    return L"
   ]
  },
  {
   "cell_type": "code",
   "execution_count": 7,
   "metadata": {},
   "outputs": [],
   "source": [
    "def spectralRad(A):\n",
    "    \"\"\"\n",
    "    Returns the spectral radius of matrix A\n",
    "    \"\"\"\n",
    "    eigs = la.eig(A)[0]\n",
    "    eigs = (eigs*eigs.conj())**.5\n",
    "    return max(eigs)"
   ]
  },
  {
   "cell_type": "code",
   "execution_count": 80,
   "metadata": {},
   "outputs": [],
   "source": [
    "def plotSpect(L=None,n=10,p=.6):\n",
    "    \"\"\"\n",
    "    Plots the spectral radius of the matrix L\n",
    "    as the diagonal entries increase\n",
    "    \"\"\"\n",
    "    \n",
    "    dom = np.linspace(0,5,6)\n",
    "    if L is None:\n",
    "        L = makeMtrx(n=n,p=p)\n",
    "    else:\n",
    "        n = L.shape[0]\n",
    "    rho = spectralRad(L)\n",
    "    plt.plot(dom,np.ones(6)*rho)\n",
    "    \n",
    "    for i in range(n):\n",
    "        spec = np.zeros(len(dom))\n",
    "        for j in range(len(dom)):\n",
    "            M = L.copy()\n",
    "            M[i,i] += dom[j]\n",
    "            spec[j] = spectralRad(M)\n",
    "        plt.plot(dom,spec)\n",
    "    plt.show()\n",
    "    return L"
   ]
  },
  {
   "cell_type": "code",
   "execution_count": 305,
   "metadata": {},
   "outputs": [],
   "source": [
    "def checkSpec(n=5,p=.15):\n",
    "    \"\"\"\n",
    "    Finds matrixes where increasing the diagonal elements \n",
    "    decreases the spectral radius\n",
    "    \"\"\"\n",
    "    dom = np.linspace(0,11,6)\n",
    "    L = makeMtrx(n=n,p=p)\n",
    "    rho = spectralRad(L)\n",
    "    \n",
    "    for i in range(n):\n",
    "        spec = np.zeros(len(dom))\n",
    "        for j in range(len(dom)):\n",
    "            M = L.copy()\n",
    "            M[i,i] += dom[j]\n",
    "            if spectralRad(M) < rho:\n",
    "                return L\n",
    "    return None"
   ]
  },
  {
   "cell_type": "code",
   "execution_count": 291,
   "metadata": {},
   "outputs": [],
   "source": [
    "smallerSpec = []\n",
    "for i in range(1000):\n",
    "    L = checkSpec()\n",
    "    if L is not None:\n",
    "        smallerSpec.append(L)"
   ]
  },
  {
   "cell_type": "code",
   "execution_count": 64,
   "metadata": {},
   "outputs": [],
   "source": [
    "disconnected = []\n",
    "for L in smallerSpec:\n",
    "    eigs = la.eig(L)[0]\n",
    "    eigs = (eigs.conj()*eigs)**.5\n",
    "    if np.round(eigs[np.argsort(eigs)][1],4) > 0:\n",
    "        disconnected.append(0)\n",
    "    else:\n",
    "        disconnected.append(1)"
   ]
  },
  {
   "cell_type": "markdown",
   "metadata": {},
   "source": [
    "From here on it's just me goofing around with different things:"
   ]
  },
  {
   "cell_type": "code",
   "execution_count": 292,
   "metadata": {},
   "outputs": [
    {
     "data": {
      "text/plain": [
       "2"
      ]
     },
     "execution_count": 292,
     "metadata": {},
     "output_type": "execute_result"
    }
   ],
   "source": [
    "len(smallerSpec)"
   ]
  },
  {
   "cell_type": "code",
   "execution_count": 244,
   "metadata": {},
   "outputs": [],
   "source": [
    "L = smallerSpec[17]"
   ]
  },
  {
   "cell_type": "code",
   "execution_count": 210,
   "metadata": {},
   "outputs": [
    {
     "name": "stderr",
     "output_type": "stream",
     "text": [
      "/Library/Python/anaconda/lib/python2.7/site-packages/ipykernel/__main__.py:15: ComplexWarning: Casting complex values to real discards the imaginary part\n"
     ]
    },
    {
     "data": {
      "image/png": "[encoded data removed]",
      "text/plain": [
       "<matplotlib.figure.Figure at 0x61ec53c10>"
      ]
     },
     "metadata": {},
     "output_type": "display_data"
    },
    {
     "data": {
      "text/plain": [
       "array([[ 1.,  0., -1.,  0.],\n",
       "       [-1.,  3., -1., -1.],\n",
       "       [ 0., -1.,  1.,  0.],\n",
       "       [ 0., -1.,  0.,  1.]])"
      ]
     },
     "execution_count": 210,
     "metadata": {},
     "output_type": "execute_result"
    }
   ],
   "source": [
    "plotSpect(L=L)"
   ]
  },
  {
   "cell_type": "code",
   "execution_count": 77,
   "metadata": {},
   "outputs": [
    {
     "data": {
      "text/plain": [
       "array([0., 1., 2., 3., 4., 5.])"
      ]
     },
     "execution_count": 77,
     "metadata": {},
     "output_type": "execute_result"
    }
   ],
   "source": [
    "np.linspace(0,5,6)"
   ]
  },
  {
   "cell_type": "code",
   "execution_count": 211,
   "metadata": {},
   "outputs": [
    {
     "data": {
      "text/plain": [
       "(3.6180339887499+0j)"
      ]
     },
     "execution_count": 211,
     "metadata": {},
     "output_type": "execute_result"
    }
   ],
   "source": [
    "spectralRad(L)"
   ]
  },
  {
   "cell_type": "code",
   "execution_count": 241,
   "metadata": {},
   "outputs": [
    {
     "data": {
      "text/plain": [
       "(3.2035454406728032+0j)"
      ]
     },
     "execution_count": 241,
     "metadata": {},
     "output_type": "execute_result"
    }
   ],
   "source": [
    "M = L.copy()\n",
    "M[0,0]+=1.559\n",
    "spectralRad(M)"
   ]
  },
  {
   "cell_type": "code",
   "execution_count": 112,
   "metadata": {},
   "outputs": [
    {
     "data": {
      "text/plain": [
       "array([0.382+0.j, 3.   +0.j, 2.618+0.j, 2.5  +0.j])"
      ]
     },
     "execution_count": 112,
     "metadata": {},
     "output_type": "execute_result"
    }
   ],
   "source": [
    "np.round(la.eig(M)[0],4)"
   ]
  },
  {
   "cell_type": "code",
   "execution_count": 247,
   "metadata": {},
   "outputs": [],
   "source": [
    "L2 = np.array([\n",
    "    [1.,0,-1.,0],\n",
    "    [-1,1,0,0],\n",
    "    [0,-1,2,-1],\n",
    "    [-1,-1,-1,3],\n",
    "])"
   ]
  },
  {
   "cell_type": "code",
   "execution_count": 252,
   "metadata": {},
   "outputs": [
    {
     "data": {
      "text/plain": [
       "[<matplotlib.lines.Line2D at 0x61f56f810>]"
      ]
     },
     "execution_count": 252,
     "metadata": {},
     "output_type": "execute_result"
    },
    {
     "data": {
      "image/png": "[encoded data removed]",
      "text/plain": [
       "<matplotlib.figure.Figure at 0x61f56fa10>"
      ]
     },
     "metadata": {},
     "output_type": "display_data"
    }
   ],
   "source": [
    "dom = np.linspace(0,2,1000)\n",
    "spec1 = []\n",
    "spec2 = []\n",
    "\n",
    "for d in dom:\n",
    "    M1 = L.copy()\n",
    "    M2 = L2.copy()\n",
    "    M1[0,0] += d\n",
    "    M2[0,0] += d\n",
    "    spec1.append(spectralRad(M1))\n",
    "    spec2.append(spectralRad(M2))\n",
    "\n",
    "plt.plot(dom,spec1)\n",
    "plt.plot(dom,spec2)"
   ]
  },
  {
   "cell_type": "code",
   "execution_count": 258,
   "metadata": {},
   "outputs": [
    {
     "name": "stdout",
     "output_type": "stream",
     "text": [
      "(3.6180339887499+0j)\n",
      "(3.618033988749898+0j)\n"
     ]
    }
   ],
   "source": [
    "M = L.copy()\n",
    "M[0,0] = 2\n",
    "M[2,2] = 2\n",
    "print(np.max(la.eig(L)[0]))\n",
    "print(np.max(la.eig(M)[0]))"
   ]
  },
  {
   "cell_type": "code",
   "execution_count": 306,
   "metadata": {},
   "outputs": [],
   "source": [
    "def drawGraph(A):\n",
    "    \"\"\"Draws graph represented by adjacency matrix A\"\"\"\n",
    "    m,n = A.shape\n",
    "    labels = {}\n",
    "    for i in range(n):\n",
    "        labels[i]=str(i+1)\n",
    "    gr = nx.from_numpy_matrix(A.T,create_using=nx.DiGraph())\n",
    "    nx.draw(gr,arrows=True,node_color='#15b01a',labels=labels)\n",
    "    plt.show()"
   ]
  },
  {
   "cell_type": "code",
   "execution_count": 293,
   "metadata": {},
   "outputs": [
    {
     "data": {
      "image/png": "[encoded data removed]",
      "text/plain": [
       "<matplotlib.figure.Figure at 0x1521ddab90>"
      ]
     },
     "metadata": {},
     "output_type": "display_data"
    },
    {
     "data": {
      "image/png": "[encoded data removed]",
      "text/plain": [
       "<matplotlib.figure.Figure at 0x15219886d0>"
      ]
     },
     "metadata": {},
     "output_type": "display_data"
    },
    {
     "ename": "IndexError",
     "evalue": "list index out of range",
     "output_type": "error",
     "traceback": [
      "\u001b[0;31m---------------------------------------------------------------------------\u001b[0m",
      "\u001b[0;31mIndexError\u001b[0m                                Traceback (most recent call last)",
      "\u001b[0;32m<ipython-input-293-5fe4ccb02812>\u001b[0m in \u001b[0;36m<module>\u001b[0;34m()\u001b[0m\n\u001b[1;32m      1\u001b[0m \u001b[0;32mfor\u001b[0m \u001b[0mi\u001b[0m \u001b[0;32min\u001b[0m \u001b[0mrange\u001b[0m\u001b[0;34m(\u001b[0m\u001b[0;36m10\u001b[0m\u001b[0;34m)\u001b[0m\u001b[0;34m:\u001b[0m\u001b[0;34m\u001b[0m\u001b[0m\n\u001b[0;32m----> 2\u001b[0;31m     \u001b[0mdrawGraph\u001b[0m\u001b[0;34m(\u001b[0m\u001b[0msmallerSpec\u001b[0m\u001b[0;34m[\u001b[0m\u001b[0mi\u001b[0m\u001b[0;34m]\u001b[0m\u001b[0;34m)\u001b[0m\u001b[0;34m\u001b[0m\u001b[0m\n\u001b[0m",
      "\u001b[0;31mIndexError\u001b[0m: list index out of range"
     ]
    }
   ],
   "source": [
    "for i in range(10):\n",
    "    drawGraph(smallerSpec[i])"
   ]
  }
 ],
 "metadata": {
  "kernelspec": {
   "display_name": "Python [anaconda]",
   "language": "python",
   "name": "Python [anaconda]"
  },
  "language_info": {
   "codemirror_mode": {
    "name": "ipython",
    "version": 2
   },
   "file_extension": ".py",
   "mimetype": "text/x-python",
   "name": "python",
   "nbconvert_exporter": "python",
   "pygments_lexer": "ipython2",
   "version": "2.7.14"
  }
 },
 "nbformat": 4,
 "nbformat_minor": 2
}
