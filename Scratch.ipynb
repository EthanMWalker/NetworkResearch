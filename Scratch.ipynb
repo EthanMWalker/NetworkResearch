{
 "cells": [
  {
   "cell_type": "code",
   "execution_count": null,
   "metadata": {},
   "outputs": [],
   "source": []
  },
  {
   "cell_type": "code",
   "execution_count": 2,
   "metadata": {},
   "outputs": [],
   "source": [
    "from specializeGraph import *\n",
    "import numpy as np\n",
    "from scipy import linalg as la"
   ]
  },
  {
   "cell_type": "code",
   "execution_count": 2,
   "metadata": {},
   "outputs": [],
   "source": [
    "L = laplacian(randomGraph(6,base=0))\n"
   ]
  },
  {
   "cell_type": "code",
   "execution_count": 3,
   "metadata": {},
   "outputs": [
    {
     "data": {
      "text/plain": [
       "array([0.+0.00000000e+00j, 3.+0.00000000e+00j, 6.+0.00000000e+00j,\n",
       "       4.+0.00000000e+00j, 5.+2.13630727e-08j, 5.-2.13630727e-08j])"
      ]
     },
     "execution_count": 3,
     "metadata": {},
     "output_type": "execute_result"
    }
   ],
   "source": [
    "la.eigvals(L)"
   ]
  },
  {
   "cell_type": "code",
   "execution_count": 4,
   "metadata": {},
   "outputs": [
    {
     "data": {
      "text/plain": [
       "72.0"
      ]
     },
     "execution_count": 4,
     "metadata": {},
     "output_type": "execute_result"
    }
   ],
   "source": [
    "la.det(L[[1,2,4,5]][:,[1,2,4,5]])"
   ]
  },
  {
   "cell_type": "code",
   "execution_count": 5,
   "metadata": {},
   "outputs": [
    {
     "name": "stdout",
     "output_type": "stream",
     "text": [
      "(0j, array([-4.08248290e-01+0.00000000e+00j,  2.87868365e-16+0.00000000e+00j,\n",
      "        3.92232270e-01+0.00000000e+00j,  6.99580436e-17+0.00000000e+00j,\n",
      "       -3.42997170e-01-3.66373674e-09j, -3.42997170e-01+3.66373674e-09j]))\n"
     ]
    }
   ],
   "source": [
    "e,v = la.eig(L)\n",
    "print(e[0],v[0])"
   ]
  },
  {
   "cell_type": "code",
   "execution_count": 6,
   "metadata": {},
   "outputs": [
    {
     "data": {
      "text/plain": [
       "array([[ 5., -1., -1., -1., -1., -1.],\n",
       "       [-1.,  3.,  0., -1.,  0., -1.],\n",
       "       [-1.,  0.,  3., -1., -1.,  0.],\n",
       "       [-1., -1., -1.,  5., -1., -1.],\n",
       "       [ 0., -1., -1.,  0.,  3., -1.],\n",
       "       [ 0., -1., -1., -1., -1.,  4.]])"
      ]
     },
     "execution_count": 6,
     "metadata": {},
     "output_type": "execute_result"
    }
   ],
   "source": [
    "L"
   ]
  },
  {
   "cell_type": "code",
   "execution_count": 11,
   "metadata": {},
   "outputs": [
    {
     "data": {
      "image/png": "[encoded data removed]",
      "text/plain": [
       "<matplotlib.figure.Figure at 0x151e6a77d0>"
      ]
     },
     "metadata": {},
     "output_type": "display_data"
    },
    {
     "name": "stdout",
     "output_type": "stream",
     "text": [
      "[0, 2, 1]\n"
     ]
    }
   ],
   "source": [
    "G,b = stableSpeci(5)\n",
    "drawGraph(specializeGraph(G,b))\n",
    "print(b)"
   ]
  },
  {
   "cell_type": "code",
   "execution_count": 12,
   "metadata": {},
   "outputs": [
    {
     "name": "stdout",
     "output_type": "stream",
     "text": [
      "[[ 2. -1.  0. -1.  0.]\n",
      " [ 0.  2. -1.  0. -1.]\n",
      " [ 0. -1.  2. -1.  0.]\n",
      " [ 0.  0. -1.  1.  0.]\n",
      " [-1.  0.  0.  0.  1.]]\n",
      "[[ 2.  0. -1.  0. -1.  0.]\n",
      " [ 0.  2. -1.  0.  0. -1.]\n",
      " [ 0. -1.  2. -1.  0.  0.]\n",
      " [-1.  0.  0.  1.  0.  0.]\n",
      " [ 0. -1.  0.  0.  1.  0.]\n",
      " [ 0. -1.  0.  0.  0.  1.]]\n"
     ]
    }
   ],
   "source": [
    "print(laplacian(G))\n",
    "print(laplacian(specializeGraph(G,b)))"
   ]
  },
  {
   "cell_type": "code",
   "execution_count": 13,
   "metadata": {},
   "outputs": [
    {
     "data": {
      "text/plain": [
       "1"
      ]
     },
     "execution_count": 13,
     "metadata": {},
     "output_type": "execute_result"
    }
   ],
   "source": [
    "np.random.randint(1,5)"
   ]
  },
  {
   "cell_type": "markdown",
   "metadata": {},
   "source": [
    "We find that if we add 1 to the diagonal of a laplacian, it becomes invertible. Amazing!"
   ]
  },
  {
   "cell_type": "code",
   "execution_count": 16,
   "metadata": {},
   "outputs": [],
   "source": [
    "howMany = 200\n",
    "n = 4\n",
    "for j in range(howMany):\n",
    "    G = randomGraph(n,base=0)\n",
    "    if nx.is_strongly_connected(nx.DiGraph(G)):\n",
    "        i = np.random.randint(0,n)\n",
    "        D = np.zeros((n,n))\n",
    "        D[i,i] = 1\n",
    "        if np.isclose(la.det(laplacian(G)+D),0):\n",
    "            drawGraph(G)\n",
    "            print(la.eig(laplacian(G))[1])"
   ]
  },
  {
   "cell_type": "code",
   "execution_count": 17,
   "metadata": {},
   "outputs": [
    {
     "data": {
      "text/plain": [
       "array([[1.5  , 1.   , 0.5  , 1.   ],\n",
       "       [0.875, 1.   , 0.375, 0.75 ],\n",
       "       [1.   , 1.   , 1.   , 1.   ],\n",
       "       [1.125, 1.   , 0.625, 1.25 ]])"
      ]
     },
     "execution_count": 17,
     "metadata": {},
     "output_type": "execute_result"
    }
   ],
   "source": [
    "la.inv(laplacian(G)+D)"
   ]
  },
  {
   "cell_type": "code",
   "execution_count": 18,
   "metadata": {},
   "outputs": [
    {
     "name": "stdout",
     "output_type": "stream",
     "text": [
      "(array([[ 2., -1.,  0., -1.],\n",
      "       [-1.,  2.,  0., -1.],\n",
      "       [ 0., -1.,  2., -1.],\n",
      "       [-1., -1., -1.,  3.]]), array([[0., 0., 0., 0.],\n",
      "       [0., 1., 0., 0.],\n",
      "       [0., 0., 0., 0.],\n",
      "       [0., 0., 0., 0.]]))\n"
     ]
    }
   ],
   "source": [
    "print(laplacian(G),D)"
   ]
  },
  {
   "cell_type": "code",
   "execution_count": 19,
   "metadata": {},
   "outputs": [
    {
     "data": {
      "text/plain": [
       "array([[0., 1., 0., 1.],\n",
       "       [1., 0., 0., 1.],\n",
       "       [0., 1., 0., 1.],\n",
       "       [1., 1., 1., 0.]])"
      ]
     },
     "execution_count": 19,
     "metadata": {},
     "output_type": "execute_result"
    }
   ],
   "source": [
    "G"
   ]
  },
  {
   "cell_type": "code",
   "execution_count": 34,
   "metadata": {},
   "outputs": [
    {
     "name": "stdout",
     "output_type": "stream",
     "text": [
      "[1.        +0.j 1.        +0.j 1.46557123+0.j 1.46557123+0.j\n",
      " 2.14789904+0.j 2.14789904+0.j]\n",
      "[1.        +0.j 1.        +0.j 1.46557123+0.j 1.46557123+0.j\n",
      " 1.27674228+0.j 0.87115676+0.j 1.27674228+0.j 0.87115676+0.j\n",
      " 0.87115676+0.j 1.27674228+0.j 0.87115676+0.j 1.27674228+0.j]\n"
     ]
    }
   ],
   "source": [
    "A = np.array([[0,0,1,0,0,0],\n",
    "              [0,0,0,1,0,0],\n",
    "              [0,0,0,0,1,0],\n",
    "              [0,0,0,0,0,1],\n",
    "              [1,0,0,0,0,1],\n",
    "              [0,1,0,0,1,0]])\n",
    "\n",
    "sA = specializeGraph(A,[0,1,2,3])\n",
    "print(eigCent(A))\n",
    "print(eigCent(sA))"
   ]
  },
  {
   "cell_type": "code",
   "execution_count": 38,
   "metadata": {},
   "outputs": [
    {
     "data": {
      "text/plain": [
       "array([1.        , 1.61803399, 1.61803399, 1.61803399])"
      ]
     },
     "execution_count": 38,
     "metadata": {},
     "output_type": "execute_result"
    }
   ],
   "source": [
    "A = np.array([[0,1,0,0],\n",
    "              [1,0,0,1],\n",
    "              [1,0,0,1],\n",
    "              [1,0,1,0]\n",
    "             ])\n",
    "eigCent(A)"
   ]
  },
  {
   "cell_type": "code",
   "execution_count": 4,
   "metadata": {},
   "outputs": [],
   "source": [
    "def eigCent(A):\n",
    "    lam,V = la.eig(A)\n",
    "    v = V[:,np.argmax(lam)]\n",
    "    v = v*(1./v[0])\n",
    "    return v"
   ]
  },
  {
   "cell_type": "markdown",
   "metadata": {},
   "source": [
    "Check if the first entries stay the same"
   ]
  },
  {
   "cell_type": "code",
   "execution_count": 32,
   "metadata": {},
   "outputs": [
    {
     "data": {
      "text/plain": [
       "array([[0, 0, 1, 0, 0, 0, 0, 0, 0, 0, 0, 0],\n",
       "       [0, 0, 0, 1, 0, 0, 0, 0, 0, 0, 0, 0],\n",
       "       [0, 0, 0, 0, 1, 0, 0, 0, 1, 0, 0, 0],\n",
       "       [0, 0, 0, 0, 0, 0, 0, 1, 0, 0, 0, 1],\n",
       "       [1, 0, 0, 0, 0, 1, 0, 0, 0, 0, 0, 0],\n",
       "       [0, 0, 0, 0, 1, 0, 0, 0, 0, 0, 0, 0],\n",
       "       [1, 0, 0, 0, 0, 0, 0, 1, 0, 0, 0, 0],\n",
       "       [0, 0, 0, 0, 0, 0, 1, 0, 0, 0, 0, 0],\n",
       "       [0, 0, 0, 0, 0, 0, 0, 0, 0, 1, 0, 0],\n",
       "       [0, 1, 0, 0, 0, 0, 0, 0, 1, 0, 0, 0],\n",
       "       [0, 0, 0, 0, 0, 0, 0, 0, 0, 0, 0, 1],\n",
       "       [0, 1, 0, 0, 0, 0, 0, 0, 0, 0, 1, 0]])"
      ]
     },
     "execution_count": 32,
     "metadata": {},
     "output_type": "execute_result"
    }
   ],
   "source": [
    "for i in range(100):\n",
    "    G,base = randomGraph(5,stronglyCon=1)\n",
    "    sG = specializeGraph(G,base)\n",
    "    rho = spectralRad(G)\n",
    "    v = eigCent(G)\n"
   ]
  },
  {
   "cell_type": "code",
   "execution_count": 35,
   "metadata": {},
   "outputs": [
    {
     "data": {
      "text/plain": [
       "array([[1, 0, 0],\n",
       "       [0, 1, 0],\n",
       "       [0, 0, 0],\n",
       "       [0, 0, 1],\n",
       "       [0, 0, 1],\n",
       "       [0, 0, 0]])"
      ]
     },
     "execution_count": 35,
     "metadata": {},
     "output_type": "execute_result"
    }
   ],
   "source": [
    "for i in range(100):\n",
    "    G = randomGraph(10,base=0)\n",
    "    C,base = randomGraph(5,stronglyCon=1)\n",
    "    G[5:,5:] = C\n",
    "    rho = spectralRad(G)\n",
    "    if la.det(rho*np.eye(5)-C)"
   ]
  },
  {
   "cell_type": "code",
   "execution_count": 28,
   "metadata": {},
   "outputs": [
    {
     "name": "stdout",
     "output_type": "stream",
     "text": [
      "[nan inf inf inf inf]\n",
      "[nan inf nan nan nan inf inf inf]\n"
     ]
    }
   ],
   "source": [
    "A = np.array([[0,0,0,0,0],\n",
    "              [0,0,1,0,0],\n",
    "              [1,0,0,1,1],\n",
    "              [0,0,1,0,1],\n",
    "              [1,0,1,0,0]])\n",
    "\n",
    "\n",
    "sA = specializeGraph(A,[0,1])\n",
    "print(eigCent(A))\n",
    "print(eigCent(sA))"
   ]
  },
  {
   "cell_type": "code",
   "execution_count": 29,
   "metadata": {},
   "outputs": [
    {
     "data": {
      "text/plain": [
       "(array([[ 0.  ,  0.  ,  0.  ,  0.  ,  0.  ],\n",
       "        [ 1.  , -0.6 ,  0.37,  0.58,  1.  ],\n",
       "        [ 0.  ,  0.37,  0.6 , -0.58, -0.  ],\n",
       "        [ 0.  ,  0.37,  0.6 , -0.  , -0.  ],\n",
       "        [ 0.  , -0.6 ,  0.37,  0.58,  0.  ]]),\n",
       " array([ 0.  +0.j, -0.62+0.j,  1.62+0.j, -1.  +0.j,  0.  +0.j]))"
      ]
     },
     "execution_count": 29,
     "metadata": {},
     "output_type": "execute_result"
    }
   ],
   "source": [
    "np.round(la.eig(A)[1],2),np.round(la.eig(A)[0],2)"
   ]
  },
  {
   "cell_type": "code",
   "execution_count": 30,
   "metadata": {},
   "outputs": [
    {
     "data": {
      "text/plain": [
       "(array([[ 0.  ,  0.  ,  0.  ,  0.  ,  0.  ,  0.  ,  0.  ,  0.  ],\n",
       "        [ 1.  , -0.6 ,  0.37, -0.43, -0.58,  0.71,  0.58,  1.  ],\n",
       "        [ 0.  ,  0.  ,  0.  , -0.57,  0.58, -0.3 ,  0.  ,  0.  ],\n",
       "        [ 0.  ,  0.  ,  0.  , -0.57, -0.  , -0.3 ,  0.  , -0.  ],\n",
       "        [ 0.  ,  0.  ,  0.  , -0.35, -0.58,  0.48, -0.  , -0.  ],\n",
       "        [ 0.  ,  0.37,  0.6 , -0.12, -0.  , -0.14, -0.58, -0.  ],\n",
       "        [ 0.  ,  0.37,  0.6 , -0.12, -0.  , -0.14,  0.  , -0.  ],\n",
       "        [ 0.  , -0.6 ,  0.37, -0.07,  0.  ,  0.22,  0.58,  0.  ]]),\n",
       " array([ 0.  +0.j, -0.62+0.j,  1.62+0.j,  1.62+0.j, -1.  +0.j, -0.62+0.j,\n",
       "        -1.  +0.j,  0.  +0.j]))"
      ]
     },
     "execution_count": 30,
     "metadata": {},
     "output_type": "execute_result"
    }
   ],
   "source": [
    "np.round(la.eig(sA)[1],2),np.round(la.eig(sA)[0],2)"
   ]
  },
  {
   "cell_type": "code",
   "execution_count": null,
   "metadata": {},
   "outputs": [],
   "source": []
  }
 ],
 "metadata": {
  "kernelspec": {
   "display_name": "Python [anaconda]",
   "language": "python",
   "name": "Python [anaconda]"
  },
  "language_info": {
   "codemirror_mode": {
    "name": "ipython",
    "version": 2
   },
   "file_extension": ".py",
   "mimetype": "text/x-python",
   "name": "python",
   "nbconvert_exporter": "python",
   "pygments_lexer": "ipython2",
   "version": "2.7.14"
  }
 },
 "nbformat": 4,
 "nbformat_minor": 2
}
